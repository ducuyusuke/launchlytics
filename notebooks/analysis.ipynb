{
 "cells": [
  {
   "cell_type": "code",
   "execution_count": 1,
   "id": "97fdd2d8",
   "metadata": {},
   "outputs": [],
   "source": [
    "from sklearn.ensemble import GradientBoostingRegressor\n",
    "from sklearn.inspection import permutation_importance\n",
    "from sklearn.metrics import mean_squared_error\n",
    "from sklearn.model_selection import train_test_split\n",
    "\n",
    "import pandas as pd\n",
    "import numpy as np\n",
    "import matplotlib.pyplot as plt\n",
    "\n",
    "import joblib"
   ]
  },
  {
   "cell_type": "markdown",
   "id": "1bf8f2a9-890a-4422-b333-5b4051edc79e",
   "metadata": {},
   "source": [
    "# Data analysis and normalization"
   ]
  },
  {
   "cell_type": "code",
   "execution_count": 44,
   "id": "d6b6704b",
   "metadata": {},
   "outputs": [],
   "source": [
    "df = pd.read_csv('../raw_data/primeira_extracao.csv')"
   ]
  },
  {
   "cell_type": "code",
   "execution_count": 45,
   "id": "9502f9b5",
   "metadata": {},
   "outputs": [
    {
     "data": {
      "text/html": [
       "<div>\n",
       "<style scoped>\n",
       "    .dataframe tbody tr th:only-of-type {\n",
       "        vertical-align: middle;\n",
       "    }\n",
       "\n",
       "    .dataframe tbody tr th {\n",
       "        vertical-align: top;\n",
       "    }\n",
       "\n",
       "    .dataframe thead th {\n",
       "        text-align: right;\n",
       "    }\n",
       "</style>\n",
       "<table border=\"1\" class=\"dataframe\">\n",
       "  <thead>\n",
       "    <tr style=\"text-align: right;\">\n",
       "      <th></th>\n",
       "      <th>Campaign Name</th>\n",
       "      <th>Reach (Estimated)</th>\n",
       "      <th>Date</th>\n",
       "      <th>CPC (Cost per Click)</th>\n",
       "      <th>CTR (Clickthrough Rate)</th>\n",
       "      <th>CPM (Cost per 1000 Impressions)</th>\n",
       "      <th>Action Post Engagement</th>\n",
       "      <th>Cost Per Action Link Clicks</th>\n",
       "      <th>Frequency</th>\n",
       "      <th>Action Landing Page View</th>\n",
       "      <th>Spend (Cost, Amount Spent)</th>\n",
       "    </tr>\n",
       "  </thead>\n",
       "  <tbody>\n",
       "    <tr>\n",
       "      <th>0</th>\n",
       "      <td>GTX | CZ_PP_YR_A1 | Vendas | Frio | [19/10] - ...</td>\n",
       "      <td>4049</td>\n",
       "      <td>2023-08-09</td>\n",
       "      <td>1,067699</td>\n",
       "      <td>2,422294</td>\n",
       "      <td>25,862808</td>\n",
       "      <td>1314.0</td>\n",
       "      <td>1,65274</td>\n",
       "      <td>1,152136</td>\n",
       "      <td>66.0</td>\n",
       "      <td>120,65</td>\n",
       "    </tr>\n",
       "    <tr>\n",
       "      <th>1</th>\n",
       "      <td>GTX | CZ_PP_YR_A1 | Vendas | Frio | [19/10] - ...</td>\n",
       "      <td>2519</td>\n",
       "      <td>2023-10-03</td>\n",
       "      <td>1,847813</td>\n",
       "      <td>2,165088</td>\n",
       "      <td>40,006766</td>\n",
       "      <td>750.0</td>\n",
       "      <td>2,815714</td>\n",
       "      <td>1,173482</td>\n",
       "      <td>27.0</td>\n",
       "      <td>118,26</td>\n",
       "    </tr>\n",
       "    <tr>\n",
       "      <th>2</th>\n",
       "      <td>GTX | CZ_PP_YR_A1 | Vendas | Frio | [19/10] - ...</td>\n",
       "      <td>4996</td>\n",
       "      <td>2023-08-27</td>\n",
       "      <td>0,930809</td>\n",
       "      <td>2,344828</td>\n",
       "      <td>21,825862</td>\n",
       "      <td>1391.0</td>\n",
       "      <td>1,332526</td>\n",
       "      <td>1,160929</td>\n",
       "      <td>77.0</td>\n",
       "      <td>126,59</td>\n",
       "    </tr>\n",
       "    <tr>\n",
       "      <th>3</th>\n",
       "      <td>GTX | CZ_PP_YR_A1 | Vendas | Frio | [19/10] - ...</td>\n",
       "      <td>3105</td>\n",
       "      <td>2023-09-20</td>\n",
       "      <td>1,386588</td>\n",
       "      <td>2,273335</td>\n",
       "      <td>31,521797</td>\n",
       "      <td>803.0</td>\n",
       "      <td>2,266538</td>\n",
       "      <td>1,204187</td>\n",
       "      <td>38.0</td>\n",
       "      <td>117,86</td>\n",
       "    </tr>\n",
       "    <tr>\n",
       "      <th>4</th>\n",
       "      <td>GTX | CZ_PP_YR_A1 | Vendas | Frio | [19/10] - ...</td>\n",
       "      <td>2727</td>\n",
       "      <td>2023-10-04</td>\n",
       "      <td>1,602917</td>\n",
       "      <td>2,229793</td>\n",
       "      <td>35,741716</td>\n",
       "      <td>751.0</td>\n",
       "      <td>2,508913</td>\n",
       "      <td>1,184085</td>\n",
       "      <td>31.0</td>\n",
       "      <td>115,41</td>\n",
       "    </tr>\n",
       "    <tr>\n",
       "      <th>...</th>\n",
       "      <td>...</td>\n",
       "      <td>...</td>\n",
       "      <td>...</td>\n",
       "      <td>...</td>\n",
       "      <td>...</td>\n",
       "      <td>...</td>\n",
       "      <td>...</td>\n",
       "      <td>...</td>\n",
       "      <td>...</td>\n",
       "      <td>...</td>\n",
       "      <td>...</td>\n",
       "    </tr>\n",
       "    <tr>\n",
       "      <th>1044</th>\n",
       "      <td>Vinicius | CZ_PP_YR_A1 | Vendas | CONV | QUENT...</td>\n",
       "      <td>60</td>\n",
       "      <td>2023-05-29</td>\n",
       "      <td>9,535</td>\n",
       "      <td>1,190476</td>\n",
       "      <td>113,511905</td>\n",
       "      <td>2.0</td>\n",
       "      <td>19,07</td>\n",
       "      <td>2,8</td>\n",
       "      <td>1.0</td>\n",
       "      <td>19,07</td>\n",
       "    </tr>\n",
       "    <tr>\n",
       "      <th>1045</th>\n",
       "      <td>Vinicius | CZ_PP_YR_A1 | Vendas | CONV | QUENT...</td>\n",
       "      <td>80</td>\n",
       "      <td>2023-06-30</td>\n",
       "      <td>3,665</td>\n",
       "      <td>2,547771</td>\n",
       "      <td>93,375796</td>\n",
       "      <td>3.0</td>\n",
       "      <td>7,33</td>\n",
       "      <td>1,9625</td>\n",
       "      <td>2.0</td>\n",
       "      <td>14,66</td>\n",
       "    </tr>\n",
       "    <tr>\n",
       "      <th>1046</th>\n",
       "      <td>Vinicius | CZ_PP_YR_A1 | Vendas | CONV | QUENT...</td>\n",
       "      <td>61</td>\n",
       "      <td>2023-05-28</td>\n",
       "      <td>11,285</td>\n",
       "      <td>1,273885</td>\n",
       "      <td>143,757962</td>\n",
       "      <td>4.0</td>\n",
       "      <td>11,285</td>\n",
       "      <td>2,57377</td>\n",
       "      <td>1.0</td>\n",
       "      <td>22,57</td>\n",
       "    </tr>\n",
       "    <tr>\n",
       "      <th>1047</th>\n",
       "      <td>Vinicius | CZ_PP_YR_A1 | Vendas | CONV | QUENT...</td>\n",
       "      <td>80</td>\n",
       "      <td>2023-05-14</td>\n",
       "      <td>5,3575</td>\n",
       "      <td>1,746725</td>\n",
       "      <td>93,580786</td>\n",
       "      <td>3.0</td>\n",
       "      <td>7,143333</td>\n",
       "      <td>2,8625</td>\n",
       "      <td>2.0</td>\n",
       "      <td>21,43</td>\n",
       "    </tr>\n",
       "    <tr>\n",
       "      <th>1048</th>\n",
       "      <td>Vinicius | CZ_PP_YR_A1 | Vendas | CONV | QUENT...</td>\n",
       "      <td>77</td>\n",
       "      <td>2023-06-29</td>\n",
       "      <td>3,7175</td>\n",
       "      <td>2,816901</td>\n",
       "      <td>104,71831</td>\n",
       "      <td>3.0</td>\n",
       "      <td>4,956667</td>\n",
       "      <td>1,844156</td>\n",
       "      <td>2.0</td>\n",
       "      <td>14,87</td>\n",
       "    </tr>\n",
       "  </tbody>\n",
       "</table>\n",
       "<p>1049 rows × 11 columns</p>\n",
       "</div>"
      ],
      "text/plain": [
       "                                          Campaign Name  Reach (Estimated)  \\\n",
       "0     GTX | CZ_PP_YR_A1 | Vendas | Frio | [19/10] - ...               4049   \n",
       "1     GTX | CZ_PP_YR_A1 | Vendas | Frio | [19/10] - ...               2519   \n",
       "2     GTX | CZ_PP_YR_A1 | Vendas | Frio | [19/10] - ...               4996   \n",
       "3     GTX | CZ_PP_YR_A1 | Vendas | Frio | [19/10] - ...               3105   \n",
       "4     GTX | CZ_PP_YR_A1 | Vendas | Frio | [19/10] - ...               2727   \n",
       "...                                                 ...                ...   \n",
       "1044  Vinicius | CZ_PP_YR_A1 | Vendas | CONV | QUENT...                 60   \n",
       "1045  Vinicius | CZ_PP_YR_A1 | Vendas | CONV | QUENT...                 80   \n",
       "1046  Vinicius | CZ_PP_YR_A1 | Vendas | CONV | QUENT...                 61   \n",
       "1047  Vinicius | CZ_PP_YR_A1 | Vendas | CONV | QUENT...                 80   \n",
       "1048  Vinicius | CZ_PP_YR_A1 | Vendas | CONV | QUENT...                 77   \n",
       "\n",
       "            Date CPC (Cost per Click) CTR (Clickthrough Rate)  \\\n",
       "0     2023-08-09             1,067699                2,422294   \n",
       "1     2023-10-03             1,847813                2,165088   \n",
       "2     2023-08-27             0,930809                2,344828   \n",
       "3     2023-09-20             1,386588                2,273335   \n",
       "4     2023-10-04             1,602917                2,229793   \n",
       "...          ...                  ...                     ...   \n",
       "1044  2023-05-29                9,535                1,190476   \n",
       "1045  2023-06-30                3,665                2,547771   \n",
       "1046  2023-05-28               11,285                1,273885   \n",
       "1047  2023-05-14               5,3575                1,746725   \n",
       "1048  2023-06-29               3,7175                2,816901   \n",
       "\n",
       "     CPM (Cost per 1000 Impressions)  Action Post Engagement  \\\n",
       "0                          25,862808                  1314.0   \n",
       "1                          40,006766                   750.0   \n",
       "2                          21,825862                  1391.0   \n",
       "3                          31,521797                   803.0   \n",
       "4                          35,741716                   751.0   \n",
       "...                              ...                     ...   \n",
       "1044                      113,511905                     2.0   \n",
       "1045                       93,375796                     3.0   \n",
       "1046                      143,757962                     4.0   \n",
       "1047                       93,580786                     3.0   \n",
       "1048                       104,71831                     3.0   \n",
       "\n",
       "     Cost Per Action Link Clicks Frequency  Action Landing Page View  \\\n",
       "0                        1,65274  1,152136                      66.0   \n",
       "1                       2,815714  1,173482                      27.0   \n",
       "2                       1,332526  1,160929                      77.0   \n",
       "3                       2,266538  1,204187                      38.0   \n",
       "4                       2,508913  1,184085                      31.0   \n",
       "...                          ...       ...                       ...   \n",
       "1044                       19,07       2,8                       1.0   \n",
       "1045                        7,33    1,9625                       2.0   \n",
       "1046                      11,285   2,57377                       1.0   \n",
       "1047                    7,143333    2,8625                       2.0   \n",
       "1048                    4,956667  1,844156                       2.0   \n",
       "\n",
       "     Spend (Cost, Amount Spent)  \n",
       "0                        120,65  \n",
       "1                        118,26  \n",
       "2                        126,59  \n",
       "3                        117,86  \n",
       "4                        115,41  \n",
       "...                         ...  \n",
       "1044                      19,07  \n",
       "1045                      14,66  \n",
       "1046                      22,57  \n",
       "1047                      21,43  \n",
       "1048                      14,87  \n",
       "\n",
       "[1049 rows x 11 columns]"
      ]
     },
     "execution_count": 45,
     "metadata": {},
     "output_type": "execute_result"
    }
   ],
   "source": [
    "df"
   ]
  },
  {
   "cell_type": "code",
   "execution_count": 4,
   "id": "1c5394f1",
   "metadata": {},
   "outputs": [
    {
     "data": {
      "text/plain": [
       "Campaign Name                       object\n",
       "Reach (Estimated)                    int64\n",
       "Date                                object\n",
       "CPC (Cost per Click)                object\n",
       "CTR (Clickthrough Rate)             object\n",
       "CPM (Cost per 1000 Impressions)     object\n",
       "Action Post Engagement             float64\n",
       "Cost Per Action Link Clicks         object\n",
       "Frequency                           object\n",
       "Action Landing Page View           float64\n",
       "Spend (Cost, Amount Spent)          object\n",
       "dtype: object"
      ]
     },
     "execution_count": 4,
     "metadata": {},
     "output_type": "execute_result"
    }
   ],
   "source": [
    "df.dtypes"
   ]
  },
  {
   "cell_type": "code",
   "execution_count": 31,
   "id": "73a8f9b9",
   "metadata": {},
   "outputs": [],
   "source": [
    "df['date'] = pd.to_datetime(df['Date'], format='%Y-%m-%d')"
   ]
  },
  {
   "cell_type": "code",
   "execution_count": 88,
   "id": "c4d63a8e-722b-4356-8aa0-2891f619120b",
   "metadata": {},
   "outputs": [],
   "source": [
    "df['spend'] = df['spend'].str.replace(',', '.').astype('float')"
   ]
  },
  {
   "cell_type": "code",
   "execution_count": null,
   "id": "9fb19205-bdfa-48fe-9579-e1657f879df5",
   "metadata": {},
   "outputs": [],
   "source": [
    "columns_dict = {\n",
    "    'Nome da Campanha': 'Campaign Name',\n",
    "    'Alcance (Estimado)': 'Reach (Estimated)',\n",
    "    'Data (Dia)': 'Date',\n",
    "    'CPC - Custo por Clique':'CPC (Cost per Click)',\n",
    "    'CTR - Clickthrough Rate': 'CTR (Clickthrough Rate)',\n",
    "    \n",
    "}"
   ]
  },
  {
   "cell_type": "code",
   "execution_count": 66,
   "id": "f68ac046-1d69-45ef-82d8-78a2f78f8399",
   "metadata": {},
   "outputs": [],
   "source": [
    "colunas_ls = ['CPC (Cost per Click)',\n",
    " 'CTR (Clickthrough Rate)',\n",
    " 'CPM (Cost per 1000 Impressions)',\n",
    " 'Cost Per Action Link Clicks',\n",
    " 'Frequency']"
   ]
  },
  {
   "cell_type": "code",
   "execution_count": 67,
   "id": "3751f089-4a02-4ec6-a9cb-41eab0bc5d87",
   "metadata": {},
   "outputs": [],
   "source": [
    "for col in colunas_ls:\n",
    "    df[col] = df[col].str.replace(',', '.').astype('float')"
   ]
  },
  {
   "cell_type": "code",
   "execution_count": 22,
   "id": "714ba676",
   "metadata": {},
   "outputs": [
    {
     "data": {
      "text/plain": [
       "20"
      ]
     },
     "execution_count": 22,
     "metadata": {},
     "output_type": "execute_result"
    }
   ],
   "source": [
    ".df['Campaign Name'].nunique()"
   ]
  },
  {
   "cell_type": "code",
   "execution_count": 112,
   "id": "a8508e95-fdcb-41c7-b57c-39371b4752a7",
   "metadata": {},
   "outputs": [
    {
     "data": {
      "text/html": [
       "<div>\n",
       "<style scoped>\n",
       "    .dataframe tbody tr th:only-of-type {\n",
       "        vertical-align: middle;\n",
       "    }\n",
       "\n",
       "    .dataframe tbody tr th {\n",
       "        vertical-align: top;\n",
       "    }\n",
       "\n",
       "    .dataframe thead th {\n",
       "        text-align: right;\n",
       "    }\n",
       "</style>\n",
       "<table border=\"1\" class=\"dataframe\">\n",
       "  <thead>\n",
       "    <tr style=\"text-align: right;\">\n",
       "      <th></th>\n",
       "      <th>Reach (Estimated)</th>\n",
       "      <th>CPC (Cost per Click)</th>\n",
       "      <th>CTR (Clickthrough Rate)</th>\n",
       "      <th>CPM (Cost per 1000 Impressions)</th>\n",
       "      <th>Action Post Engagement</th>\n",
       "      <th>Cost Per Action Link Clicks</th>\n",
       "      <th>Frequency</th>\n",
       "      <th>Action Landing Page View</th>\n",
       "      <th>spend</th>\n",
       "    </tr>\n",
       "  </thead>\n",
       "  <tbody>\n",
       "    <tr>\n",
       "      <th>Reach (Estimated)</th>\n",
       "      <td>1.000000</td>\n",
       "      <td>-0.309958</td>\n",
       "      <td>0.085114</td>\n",
       "      <td>-0.341386</td>\n",
       "      <td>0.931409</td>\n",
       "      <td>-0.378283</td>\n",
       "      <td>-0.330763</td>\n",
       "      <td>0.900271</td>\n",
       "      <td>0.923256</td>\n",
       "    </tr>\n",
       "    <tr>\n",
       "      <th>CPC (Cost per Click)</th>\n",
       "      <td>-0.309958</td>\n",
       "      <td>1.000000</td>\n",
       "      <td>-0.459700</td>\n",
       "      <td>0.730567</td>\n",
       "      <td>-0.313607</td>\n",
       "      <td>0.798008</td>\n",
       "      <td>0.577470</td>\n",
       "      <td>-0.328083</td>\n",
       "      <td>-0.211062</td>\n",
       "    </tr>\n",
       "    <tr>\n",
       "      <th>CTR (Clickthrough Rate)</th>\n",
       "      <td>0.085114</td>\n",
       "      <td>-0.459700</td>\n",
       "      <td>1.000000</td>\n",
       "      <td>-0.043524</td>\n",
       "      <td>0.170872</td>\n",
       "      <td>-0.438853</td>\n",
       "      <td>-0.081954</td>\n",
       "      <td>0.289112</td>\n",
       "      <td>0.067328</td>\n",
       "    </tr>\n",
       "    <tr>\n",
       "      <th>CPM (Cost per 1000 Impressions)</th>\n",
       "      <td>-0.341386</td>\n",
       "      <td>0.730567</td>\n",
       "      <td>-0.043524</td>\n",
       "      <td>1.000000</td>\n",
       "      <td>-0.319379</td>\n",
       "      <td>0.613530</td>\n",
       "      <td>0.732801</td>\n",
       "      <td>-0.295745</td>\n",
       "      <td>-0.183535</td>\n",
       "    </tr>\n",
       "    <tr>\n",
       "      <th>Action Post Engagement</th>\n",
       "      <td>0.931409</td>\n",
       "      <td>-0.313607</td>\n",
       "      <td>0.170872</td>\n",
       "      <td>-0.319379</td>\n",
       "      <td>1.000000</td>\n",
       "      <td>-0.394983</td>\n",
       "      <td>-0.335177</td>\n",
       "      <td>0.952229</td>\n",
       "      <td>0.837663</td>\n",
       "    </tr>\n",
       "    <tr>\n",
       "      <th>Cost Per Action Link Clicks</th>\n",
       "      <td>-0.378283</td>\n",
       "      <td>0.798008</td>\n",
       "      <td>-0.438853</td>\n",
       "      <td>0.613530</td>\n",
       "      <td>-0.394983</td>\n",
       "      <td>1.000000</td>\n",
       "      <td>0.598262</td>\n",
       "      <td>-0.406170</td>\n",
       "      <td>-0.291333</td>\n",
       "    </tr>\n",
       "    <tr>\n",
       "      <th>Frequency</th>\n",
       "      <td>-0.330763</td>\n",
       "      <td>0.577470</td>\n",
       "      <td>-0.081954</td>\n",
       "      <td>0.732801</td>\n",
       "      <td>-0.335177</td>\n",
       "      <td>0.598262</td>\n",
       "      <td>1.000000</td>\n",
       "      <td>-0.297102</td>\n",
       "      <td>-0.266756</td>\n",
       "    </tr>\n",
       "    <tr>\n",
       "      <th>Action Landing Page View</th>\n",
       "      <td>0.900271</td>\n",
       "      <td>-0.328083</td>\n",
       "      <td>0.289112</td>\n",
       "      <td>-0.295745</td>\n",
       "      <td>0.952229</td>\n",
       "      <td>-0.406170</td>\n",
       "      <td>-0.297102</td>\n",
       "      <td>1.000000</td>\n",
       "      <td>0.812190</td>\n",
       "    </tr>\n",
       "    <tr>\n",
       "      <th>spend</th>\n",
       "      <td>0.923256</td>\n",
       "      <td>-0.211062</td>\n",
       "      <td>0.067328</td>\n",
       "      <td>-0.183535</td>\n",
       "      <td>0.837663</td>\n",
       "      <td>-0.291333</td>\n",
       "      <td>-0.266756</td>\n",
       "      <td>0.812190</td>\n",
       "      <td>1.000000</td>\n",
       "    </tr>\n",
       "  </tbody>\n",
       "</table>\n",
       "</div>"
      ],
      "text/plain": [
       "                                 Reach (Estimated)  CPC (Cost per Click)  \\\n",
       "Reach (Estimated)                         1.000000             -0.309958   \n",
       "CPC (Cost per Click)                     -0.309958              1.000000   \n",
       "CTR (Clickthrough Rate)                   0.085114             -0.459700   \n",
       "CPM (Cost per 1000 Impressions)          -0.341386              0.730567   \n",
       "Action Post Engagement                    0.931409             -0.313607   \n",
       "Cost Per Action Link Clicks              -0.378283              0.798008   \n",
       "Frequency                                -0.330763              0.577470   \n",
       "Action Landing Page View                  0.900271             -0.328083   \n",
       "spend                                     0.923256             -0.211062   \n",
       "\n",
       "                                 CTR (Clickthrough Rate)  \\\n",
       "Reach (Estimated)                               0.085114   \n",
       "CPC (Cost per Click)                           -0.459700   \n",
       "CTR (Clickthrough Rate)                         1.000000   \n",
       "CPM (Cost per 1000 Impressions)                -0.043524   \n",
       "Action Post Engagement                          0.170872   \n",
       "Cost Per Action Link Clicks                    -0.438853   \n",
       "Frequency                                      -0.081954   \n",
       "Action Landing Page View                        0.289112   \n",
       "spend                                           0.067328   \n",
       "\n",
       "                                 CPM (Cost per 1000 Impressions)  \\\n",
       "Reach (Estimated)                                      -0.341386   \n",
       "CPC (Cost per Click)                                    0.730567   \n",
       "CTR (Clickthrough Rate)                                -0.043524   \n",
       "CPM (Cost per 1000 Impressions)                         1.000000   \n",
       "Action Post Engagement                                 -0.319379   \n",
       "Cost Per Action Link Clicks                             0.613530   \n",
       "Frequency                                               0.732801   \n",
       "Action Landing Page View                               -0.295745   \n",
       "spend                                                  -0.183535   \n",
       "\n",
       "                                 Action Post Engagement  \\\n",
       "Reach (Estimated)                              0.931409   \n",
       "CPC (Cost per Click)                          -0.313607   \n",
       "CTR (Clickthrough Rate)                        0.170872   \n",
       "CPM (Cost per 1000 Impressions)               -0.319379   \n",
       "Action Post Engagement                         1.000000   \n",
       "Cost Per Action Link Clicks                   -0.394983   \n",
       "Frequency                                     -0.335177   \n",
       "Action Landing Page View                       0.952229   \n",
       "spend                                          0.837663   \n",
       "\n",
       "                                 Cost Per Action Link Clicks  Frequency  \\\n",
       "Reach (Estimated)                                  -0.378283  -0.330763   \n",
       "CPC (Cost per Click)                                0.798008   0.577470   \n",
       "CTR (Clickthrough Rate)                            -0.438853  -0.081954   \n",
       "CPM (Cost per 1000 Impressions)                     0.613530   0.732801   \n",
       "Action Post Engagement                             -0.394983  -0.335177   \n",
       "Cost Per Action Link Clicks                         1.000000   0.598262   \n",
       "Frequency                                           0.598262   1.000000   \n",
       "Action Landing Page View                           -0.406170  -0.297102   \n",
       "spend                                              -0.291333  -0.266756   \n",
       "\n",
       "                                 Action Landing Page View     spend  \n",
       "Reach (Estimated)                                0.900271  0.923256  \n",
       "CPC (Cost per Click)                            -0.328083 -0.211062  \n",
       "CTR (Clickthrough Rate)                          0.289112  0.067328  \n",
       "CPM (Cost per 1000 Impressions)                 -0.295745 -0.183535  \n",
       "Action Post Engagement                           0.952229  0.837663  \n",
       "Cost Per Action Link Clicks                     -0.406170 -0.291333  \n",
       "Frequency                                       -0.297102 -0.266756  \n",
       "Action Landing Page View                         1.000000  0.812190  \n",
       "spend                                            0.812190  1.000000  "
      ]
     },
     "execution_count": 112,
     "metadata": {},
     "output_type": "execute_result"
    }
   ],
   "source": [
    "df.corr()"
   ]
  },
  {
   "cell_type": "code",
   "execution_count": 21,
   "id": "147ca90c",
   "metadata": {},
   "outputs": [
    {
     "data": {
      "text/plain": [
       "<AxesSubplot:xlabel='date'>"
      ]
     },
     "execution_count": 21,
     "metadata": {},
     "output_type": "execute_result"
    },
    {
     "data": {
      "image/png": "[encoded data removed]",
      "text/plain": [
       "<Figure size 432x288 with 1 Axes>"
      ]
     },
     "metadata": {
      "needs_background": "light"
     },
     "output_type": "display_data"
    }
   ],
   "source": [
    "df.groupby(['date','Campaign Name'])\\\n",
    ".agg({'Reach (Estimated)':'sum'})\\\n",
    ".reset_index()\\\n",
    ".pivot_table(index='date', columns='Campaign Name').plot(legend=False)"
   ]
  },
  {
   "cell_type": "markdown",
   "id": "7f48eff4-d166-4cb3-8518-bb6669aa1076",
   "metadata": {},
   "source": [
    "# Data cleanse for dash import"
   ]
  },
  {
   "cell_type": "code",
   "execution_count": 13,
   "id": "76c7b2d0-b9d4-4f6a-b97f-a9637e7363e4",
   "metadata": {},
   "outputs": [],
   "source": [
    "def data_proc(data_inicio, data_fim):\n",
    "    '''\n",
    "    data_inicio = str\n",
    "    data_fim = str\n",
    "    '''\n",
    "    df = pd.read_csv('../raw_data/primeira_extracao.csv')\n",
    "\n",
    "    df['Date'] = pd.to_datetime(df['Date'], format='%Y-%m-%d')\n",
    "\n",
    "    teste = df.groupby(['date','Campaign Name'])\\\n",
    "    .agg({'Reach (Estimated)':'sum'})\\\n",
    "    .reset_index()\\\n",
    "    .pivot_table(index='date', columns='Campaign Name')\n",
    "\n",
    "    # Definindo as datas de início e fim para o período desejado\n",
    "    data_inicio = pd.to_datetime(data_inicio)\n",
    "    data_fim = pd.to_datetime(data_fim)\n",
    "\n",
    "    # Filtrando o DataFrame entre as datas de início e fim\n",
    "    df_filtrado = df.loc[(df['Data'] >= data_inicio) & (df['Data'] <= data_fim)]\n",
    "    \n",
    "    teste.to_json('teste.json')"
   ]
  },
  {
   "cell_type": "code",
   "execution_count": 46,
   "id": "5abffe86-bd98-4ad8-bf0b-b6d6988a370a",
   "metadata": {},
   "outputs": [],
   "source": [
    "df.rename(columns={'Spend (Cost, Amount Spent)': 'spend'},inplace=True)"
   ]
  },
  {
   "cell_type": "code",
   "execution_count": 51,
   "id": "aa0af3f0-1516-4122-b731-5bb092fa4e22",
   "metadata": {},
   "outputs": [
    {
     "data": {
      "text/plain": [
       "['Campaign Name',\n",
       " 'Reach (Estimated)',\n",
       " 'Date',\n",
       " 'CPC (Cost per Click)',\n",
       " 'CTR (Clickthrough Rate)',\n",
       " 'CPM (Cost per 1000 Impressions)',\n",
       " 'Action Post Engagement',\n",
       " 'Cost Per Action Link Clicks',\n",
       " 'Frequency',\n",
       " 'Action Landing Page View',\n",
       " 'spend']"
      ]
     },
     "execution_count": 51,
     "metadata": {},
     "output_type": "execute_result"
    }
   ],
   "source": [
    "list(df.columns)"
   ]
  },
  {
   "cell_type": "code",
   "execution_count": 57,
   "id": "fd055307-985b-4d17-94e7-e257d0dfcd44",
   "metadata": {},
   "outputs": [],
   "source": [
    "colunas = ['Reach (Estimated)',\n",
    "  'CPC (Cost per Click)',\n",
    " 'CTR (Clickthrough Rate)',\n",
    " 'CPM (Cost per 1000 Impressions)',\n",
    " 'Action Post Engagement',\n",
    " 'Cost Per Action Link Clicks',\n",
    " 'Frequency',\n",
    " 'spend']"
   ]
  },
  {
   "cell_type": "code",
   "execution_count": 62,
   "id": "5ed0b42e-bac4-4356-8dd0-43f07207f2d0",
   "metadata": {},
   "outputs": [
    {
     "data": {
      "text/plain": [
       "Campaign Name                       object\n",
       "Reach (Estimated)                    int64\n",
       "Date                                object\n",
       "CPC (Cost per Click)                object\n",
       "CTR (Clickthrough Rate)             object\n",
       "CPM (Cost per 1000 Impressions)     object\n",
       "Action Post Engagement             float64\n",
       "Cost Per Action Link Clicks         object\n",
       "Frequency                           object\n",
       "Action Landing Page View           float64\n",
       "spend                               object\n",
       "dtype: object"
      ]
     },
     "execution_count": 62,
     "metadata": {},
     "output_type": "execute_result"
    }
   ],
   "source": [
    "df.dtypes"
   ]
  },
  {
   "cell_type": "code",
   "execution_count": 66,
   "id": "973688a1-6200-421b-bd74-e6470eed9ae4",
   "metadata": {},
   "outputs": [],
   "source": [
    "colunas_ls = ['CPC (Cost per Click)',\n",
    " 'CTR (Clickthrough Rate)',\n",
    " 'CPM (Cost per 1000 Impressions)',\n",
    " 'Cost Per Action Link Clicks',\n",
    " 'Frequency']"
   ]
  },
  {
   "cell_type": "code",
   "execution_count": 67,
   "id": "217e954e-565e-483d-a7e1-7f7af31e2159",
   "metadata": {},
   "outputs": [],
   "source": [
    "for col in colunas_ls:\n",
    "    df[col] = df[col].str.replace(',', '.').astype('float')"
   ]
  },
  {
   "cell_type": "markdown",
   "id": "ee9df5bf-1543-4058-941d-71e955a4d4ac",
   "metadata": {},
   "source": [
    "# XGboost Model for investment forecasting"
   ]
  },
  {
   "cell_type": "code",
   "execution_count": 106,
   "id": "f47421a9-7d5c-4d3a-be6c-dfe70fa8e021",
   "metadata": {},
   "outputs": [],
   "source": [
    "X, y = df[colunas], df['Action Landing Page View']"
   ]
  },
  {
   "cell_type": "code",
   "execution_count": 107,
   "id": "a031ad67-b718-4819-a7e4-fa9ba9bbacb2",
   "metadata": {},
   "outputs": [],
   "source": [
    "df.dropna(inplace=True)"
   ]
  },
  {
   "cell_type": "code",
   "execution_count": 108,
   "id": "0570f269-16bd-4c49-bc69-12caf95530a3",
   "metadata": {},
   "outputs": [],
   "source": [
    "X_train, X_test, y_train, y_test = train_test_split(\n",
    "    X, y, test_size=0.1, random_state=13\n",
    ")\n",
    "\n",
    "params = {\n",
    "    \"n_estimators\": 500,\n",
    "    \"max_depth\": 4,\n",
    "    \"min_samples_split\": 5,\n",
    "    \"learning_rate\": 0.01\n",
    "}"
   ]
  },
  {
   "cell_type": "code",
   "execution_count": 109,
   "id": "147fd635-85e5-45cd-b85b-7fdb925e7aee",
   "metadata": {},
   "outputs": [
    {
     "name": "stdout",
     "output_type": "stream",
     "text": [
      "The mean squared error (MSE) on test set: 1.0638\n"
     ]
    }
   ],
   "source": [
    "reg = GradientBoostingRegressor(**params)\n",
    "reg.fit(X_train, y_train)\n",
    "\n",
    "mse = mean_squared_error(y_test, reg.predict(X_test))\n",
    "print(\"The mean squared error (MSE) on test set: {:.4f}\".format(mse))"
   ]
  },
  {
   "cell_type": "code",
   "execution_count": 111,
   "id": "d6c5bbcd-159e-4661-a386-f94acfb31c50",
   "metadata": {},
   "outputs": [
    {
     "data": {
      "image/png": "[encoded data removed]",
      "text/plain": [
       "<Figure size 432x432 with 1 Axes>"
      ]
     },
     "metadata": {
      "needs_background": "light"
     },
     "output_type": "display_data"
    }
   ],
   "source": [
    "test_score = np.zeros((params[\"n_estimators\"],), dtype=np.float64)\n",
    "for i, y_pred in enumerate(reg.staged_predict(X_test)):\n",
    "    test_score[i] = mean_squared_error(y_test, y_pred)\n",
    "\n",
    "fig = plt.figure(figsize=(6, 6))\n",
    "plt.subplot(1, 1, 1)\n",
    "plt.title(\"Deviance\")\n",
    "plt.plot(\n",
    "    np.arange(params[\"n_estimators\"]) + 1,\n",
    "    reg.train_score_,\n",
    "    \"b-\",\n",
    "    label=\"Training Set Deviance\",\n",
    ")\n",
    "plt.plot(\n",
    "    np.arange(params[\"n_estimators\"]) + 1, test_score, \"r-\", label=\"Test Set Deviance\"\n",
    ")\n",
    "plt.legend(loc=\"upper right\")\n",
    "plt.xlabel(\"Boosting Iterations\")\n",
    "plt.ylabel(\"Deviance\")\n",
    "fig.tight_layout()\n",
    "plt.show()"
   ]
  },
  {
   "cell_type": "code",
   "execution_count": null,
   "id": "5d29e3fa-9d7a-4af6-8da4-40db1a10e117",
   "metadata": {},
   "outputs": [],
   "source": []
  }
 ],
 "metadata": {
  "kernelspec": {
   "display_name": "Python 3 (ipykernel)",
   "language": "python",
   "name": "python3"
  },
  "language_info": {
   "codemirror_mode": {
    "name": "ipython",
    "version": 3
   },
   "file_extension": ".py",
   "mimetype": "text/x-python",
   "name": "python",
   "nbconvert_exporter": "python",
   "pygments_lexer": "ipython3",
   "version": "3.8.12"
  },
  "toc": {
   "base_numbering": 1,
   "nav_menu": {},
   "number_sections": true,
   "sideBar": true,
   "skip_h1_title": false,
   "title_cell": "Table of Contents",
   "title_sidebar": "Contents",
   "toc_cell": false,
   "toc_position": {},
   "toc_section_display": true,
   "toc_window_display": false
  }
 },
 "nbformat": 4,
 "nbformat_minor": 5
}
